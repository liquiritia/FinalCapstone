{
 "cells": [
  {
   "cell_type": "markdown",
   "metadata": {},
   "source": [
    "# Peer-graded Assignment: Capstone Project - The Battle of Neighborhoods (Week 1)\n",
    "\n",
    "# Title: A place to live - Toronto Edition"
   ]
  },
  {
   "cell_type": "markdown",
   "metadata": {},
   "source": [
    "Everyone needs a place to live, a place to call home. \n",
    "Sometimes we want to live near our workplace. On the other hand the need to be close to nature is growing stronger and people choose suburban existence.\n",
    "\n",
    "Surroundings and places nearby are strong factors when choosing neighbourhoods while looking for property.\n",
    "\n",
    "### Business Problem: Determine the attractiveness  of neighbourhoods in Toronto, considering environmental and facilities factors, to justify real estates prices and make data-driven decisions on certain investments.\n",
    "\n",
    "I will use data from previous assignment to analyze it further with addition of additional datasets\n",
    "\n",
    "### Data sources for this assignment:\n",
    "\n",
    "• Toronto web scraped neighbourhoods dataset  \n",
    "• Toronto Foursquare API data for venues in neighbourhoods  \n",
    "• Toronto environmental datasets\n",
    "\n"
   ]
  }
 ],
 "metadata": {
  "kernelspec": {
   "display_name": "Python 3",
   "language": "python",
   "name": "python3"
  },
  "language_info": {
   "codemirror_mode": {
    "name": "ipython",
    "version": 3
   },
   "file_extension": ".py",
   "mimetype": "text/x-python",
   "name": "python",
   "nbconvert_exporter": "python",
   "pygments_lexer": "ipython3",
   "version": "3.7.1"
  }
 },
 "nbformat": 4,
 "nbformat_minor": 2
}
